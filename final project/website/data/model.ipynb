{
 "cells": [
  {
   "cell_type": "code",
   "execution_count": 2,
   "id": "b2c60ad0-ebe3-433f-9e14-1349ab9eb565",
   "metadata": {},
   "outputs": [],
   "source": [
    "import pandas as pd\n",
    "from surprise import Dataset, Reader, accuracy, KNNBasic\n",
    "from surprise.model_selection import train_test_split\n",
    "from surprise.dump import dump"
   ]
  },
  {
   "cell_type": "code",
   "execution_count": 3,
   "id": "71b0f94f-8c5d-4e5e-b592-393f8bfbf707",
   "metadata": {},
   "outputs": [],
   "source": [
    "final_ratings = pd.read_csv('num_beer_ratings.csv', dtype={'user_id': str, 'beer_id': str}) # shortened table of user ratings without beer info "
   ]
  },
  {
   "cell_type": "code",
   "execution_count": 5,
   "id": "835edb23-9044-4578-8da4-6c39a2b699ed",
   "metadata": {},
   "outputs": [
    {
     "name": "stdout",
     "output_type": "stream",
     "text": [
      "Computing the msd similarity matrix...\n",
      "Done computing similarity matrix.\n",
      "RMSE: 0.3435\n"
     ]
    },
    {
     "data": {
      "text/plain": [
       "0.3435177047549064"
      ]
     },
     "execution_count": 5,
     "metadata": {},
     "output_type": "execute_result"
    }
   ],
   "source": [
    "# Initializing the model\n",
    "\n",
    "reader = Reader(rating_scale=(0, 5))\n",
    "data = Dataset.load_from_df(final_ratings, reader)\n",
    "\n",
    "train_, test_ = train_test_split(data, test_size=0.2, random_state=50)\n",
    "\n",
    "model = KNNBasic(sim_options={'user_based': True})\n",
    "model.fit(train_)\n",
    "\n",
    "predictions = model.test(test_)\n",
    "accuracy.rmse(predictions)"
   ]
  },
  {
   "cell_type": "code",
   "execution_count": 6,
   "id": "6860d815-8053-4f31-bf59-3b240343f508",
   "metadata": {},
   "outputs": [],
   "source": [
    "# Saving the model\n",
    "model_filename = 'knn_model'\n",
    "dump(model_filename, algo=model)"
   ]
  },
  {
   "cell_type": "code",
   "execution_count": null,
   "id": "08d1d412-13a7-4931-a354-ecc33eef6bcc",
   "metadata": {},
   "outputs": [],
   "source": []
  }
 ],
 "metadata": {
  "kernelspec": {
   "display_name": "Python 3 (ipykernel)",
   "language": "python",
   "name": "python3"
  },
  "language_info": {
   "codemirror_mode": {
    "name": "ipython",
    "version": 3
   },
   "file_extension": ".py",
   "mimetype": "text/x-python",
   "name": "python",
   "nbconvert_exporter": "python",
   "pygments_lexer": "ipython3",
   "version": "3.8.18"
  }
 },
 "nbformat": 4,
 "nbformat_minor": 5
}
