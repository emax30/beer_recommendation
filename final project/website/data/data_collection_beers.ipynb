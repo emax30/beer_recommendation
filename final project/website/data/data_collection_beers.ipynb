{
 "cells": [
  {
   "cell_type": "code",
   "execution_count": 2,
   "id": "69bb9e36",
   "metadata": {},
   "outputs": [],
   "source": [
    "from tqdm import tqdm\n",
    "import pandas as pd\n",
    "from bs4 import BeautifulSoup as bs\n",
    "from selenium import webdriver\n",
    "import time"
   ]
  },
  {
   "cell_type": "code",
   "execution_count": 4,
   "id": "3ec2b3eb",
   "metadata": {},
   "outputs": [],
   "source": [
    "options = webdriver.ChromeOptions()\n",
    "options.add_argument('headless')\n",
    "options.add_argument('--disable-infobars')\n",
    "options.add_argument('--disable-dev-shm-usage')\n",
    "options.add_argument('--no-sandbox')\n",
    "options.add_argument('--remote-debugging-port=9222')"
   ]
  },
  {
   "cell_type": "code",
   "execution_count": 2,
   "id": "7913d8d6",
   "metadata": {},
   "outputs": [],
   "source": [
    "beers = pd.read_csv('beer_ratings.csv')\n",
    "beers"
   ]
  },
  {
   "cell_type": "code",
   "execution_count": 7,
   "id": "f5804b34",
   "metadata": {},
   "outputs": [],
   "source": [
    "# Function to get beer info from the soup\n",
    "def get_beer_info(soup):\n",
    "    info = []\n",
    "    try:\n",
    "        for i in soup.select('.MuiPaper-root')[5].select('.MuiTypography-root'):\n",
    "            info.append(i.text)\n",
    "\n",
    "    except:\n",
    "        return 'NaN'\n",
    "    \n",
    "    return info"
   ]
  },
  {
   "cell_type": "code",
   "execution_count": null,
   "id": "3bc38bd3",
   "metadata": {
    "collapsed": true,
    "jupyter": {
     "outputs_hidden": true
    }
   },
   "outputs": [],
   "source": [
    "# Scraping info on beers most commonly rated by users\n",
    "ids = []\n",
    "col = ['beer', 'info']\n",
    "d = {i: [] for i in col}\n",
    "\n",
    "for link in tqdm(beers['link'].value_counts().index[:6433]): # data was scraped and processed in batches of 1000 or 2000, stopped at 6433\n",
    "    beer = beers[beers[\"link\"] == link][\"beer\"].iloc[0]\n",
    "    d['beer'].append(beer)\n",
    "    print(f'Scraping data for {beer}.')\n",
    "    \n",
    "    driver = webdriver.Chrome(options=options) \n",
    "    driver.get(\"https://www.ratebeer.com\"+str(link))\n",
    "    time.sleep(5)\n",
    "    try:\n",
    "        soup = bs(driver.page_source, \"html.parser\")\n",
    "    except:\n",
    "        print('Could not load the page.')\n",
    "        pass\n",
    "    \n",
    "    try:\n",
    "        d['info'].append(get_beer_info(soup))\n",
    "    except:\n",
    "        pass\n",
    "        \n",
    "    print(f'{beer} done!')\n",
    "    driver.quit()\n",
    "        \n",
    "    df = pd.DataFrame(data=d, columns = col)\n",
    "    df.to_csv('beer_info.csv', index=False)   \n",
    "    print(f'Info on {beer} saved.')"
   ]
  },
  {
   "cell_type": "code",
   "execution_count": null,
   "id": "aaa5c421-eef4-46bd-b612-e9a560d12554",
   "metadata": {},
   "outputs": [],
   "source": [
    "# Functions to clean up beer info\n",
    "def clean_up(x):\n",
    "    \"\"\"\n",
    "    Cleans up beer info scraped from ratebeer.com\n",
    "    \"\"\"\n",
    "    \n",
    "    provinces = ['Quebec', 'Ontario', 'British Columbia', 'New Brunswick', 'Nova Scotia', 'Saskatchewan', 'Alberta', 'Newfoundland'\n",
    "            'Manitoba', 'Prince Edward Island', 'Yukon', 'Nunavut', 'Northwest Territories']\n",
    "    \n",
    "    l1 = [element for element in x if 'VERIFIED' not in element and 'TOP 50' not in element and 'Reviews' not in element]\n",
    "    l2 = [element for element in l1 if 'Ratings' not in element and \"🇨🇦\" not in element]\n",
    "    l3 = [element for element in l2 if 'Canada' not in element or 'Bas-Canada' in element or \"(Canada)\" in element]\n",
    "    l4 = [element for element in l3 if not element.strip() in provinces]\n",
    "    l_final = [element for element in l4 if any(char.isalpha() for char in element)]\n",
    "    \n",
    "    return l_final[:7]\n",
    "\n",
    "def beer_status(x):\n",
    "    if 'seasonal' in x[2] or 'Production' in x[2]: # can be 'seasonal', 'out of production' or blank\n",
    "        return x[2]\n",
    "    else:\n",
    "        return 'regular'\n",
    "\n",
    "def beer_style(x):\n",
    "    if 'seasonal' in x[2] or 'Production' in x[2]:\n",
    "        if 'seasonal' in x[4] or 'Production' in x[4]:\n",
    "            return x[6]\n",
    "        else:\n",
    "            return x[4]\n",
    "    else:\n",
    "        return x[2]\n",
    "    \n",
    "def string_cleanup(x):\n",
    "    if x.strip()[0] == \"'\" and x.strip()[-1] == \"'\":\n",
    "        return x.strip()[1:-1]\n",
    "    else:\n",
    "        return x.strip()"
   ]
  },
  {
   "cell_type": "code",
   "execution_count": null,
   "id": "7e775fa3-0c68-4878-b498-9e7b63a6010b",
   "metadata": {},
   "outputs": [],
   "source": [
    "df['info'] = df['info'].apply(clean_up)\n",
    "df['brewery'] = df[\"info\"].apply(lambda x: x[0].replace('\"','').strip()).apply(string_cleanup)\n",
    "df['style'] = df['info'].apply(beer_style).apply(string_cleanup)\n",
    "df['status'] = df['info'].apply(beer_status).apply(string_cleanup)\n",
    "\n",
    "df = df[df['status'] !='Out of Production'] # excluding beers out of production\n",
    "drinks_to_exclude = ['Cider', 'Mead', 'Saké'] # some ciders, meads and sakes were also scraped and need to be excluded\n",
    "for drink in drinks_to_exclude:\n",
    "    df = df[~df['style'].str.contains(drink)]\n",
    "\n",
    "df = df.drop(columns = ['info'])\n",
    "df.to_csv('beer_info.csv', index=False)\n",
    "\n",
    "# if done in batches, after cleanup df from each batch can be concatenated with the main df\n",
    "# main = pd.read_csv('')\n",
    "# result = pd.concat([main, df], ignore_index=True)"
   ]
  }
 ],
 "metadata": {
  "kernelspec": {
   "display_name": "Python 3 (ipykernel)",
   "language": "python",
   "name": "python3"
  },
  "language_info": {
   "codemirror_mode": {
    "name": "ipython",
    "version": 3
   },
   "file_extension": ".py",
   "mimetype": "text/x-python",
   "name": "python",
   "nbconvert_exporter": "python",
   "pygments_lexer": "ipython3",
   "version": "3.8.18"
  }
 },
 "nbformat": 4,
 "nbformat_minor": 5
}
