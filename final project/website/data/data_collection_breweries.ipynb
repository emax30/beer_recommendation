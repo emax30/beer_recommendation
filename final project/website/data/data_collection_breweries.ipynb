{
 "cells": [
  {
   "cell_type": "code",
   "execution_count": null,
   "id": "210d84e7",
   "metadata": {},
   "outputs": [],
   "source": [
    "# Web scraping Canadian breweries from ratebeer.com/breweries/canada/0/39/"
   ]
  },
  {
   "cell_type": "code",
   "execution_count": null,
   "id": "b723279f",
   "metadata": {},
   "outputs": [],
   "source": [
    "from tqdm import tqdm\n",
    "import pandas as pd\n",
    "from bs4 import BeautifulSoup as bs\n",
    "from selenium import webdriver\n",
    "import time"
   ]
  },
  {
   "cell_type": "code",
   "execution_count": null,
   "id": "6f7c5eeb",
   "metadata": {},
   "outputs": [],
   "source": [
    "# Set the selenium webdriver options\n",
    "options = webdriver.ChromeOptions()\n",
    "options.add_argument('headless')\n",
    "options.add_argument('--disable-infobars')\n",
    "options.add_argument('--disable-dev-shm-usage')\n",
    "options.add_argument('--no-sandbox')\n",
    "options.add_argument('--remote-debugging-port=9222')"
   ]
  },
  {
   "cell_type": "code",
   "execution_count": null,
   "id": "ff4cc805",
   "metadata": {},
   "outputs": [],
   "source": [
    "# Scraping brewery names, links to their ratebeer.com pages and types\n",
    "col = ['brewery', 'link', 'type']\n",
    "d = {cat : [] for cat in col}\n",
    "url = 'https://www.ratebeer.com/breweries/canada/0/39/'\n",
    "\n",
    "driver = webdriver.Chrome(options=options)\n",
    "driver.get(url)\n",
    "time.sleep(5)\n",
    "soup = bs(driver.page_source, \"html.parser\")\n",
    "driver.quit()\n",
    "\n",
    "for i in tqdm(range(1535)): # 1535 active breweries at the time of scraping\n",
    "    try: \n",
    "        d['brewery'].append(soup.select('.tab-pane')[0].select('.tablesorter')[0].select('tr')[i].select('a')[0].text.strip())\n",
    "        d['link'].append(soup.select('.tab-pane')[0].select('.tablesorter')[0].select('tr')[i].select('a')[0]['href'])\n",
    "        d['type'].append(soup.select('.tab-pane')[0].select('.tablesorter')[0].select('tr')[i].select('td')[1].text)\n",
    "    except:\n",
    "        pass"
   ]
  },
  {
   "cell_type": "code",
   "execution_count": null,
   "id": "e9beedab",
   "metadata": {
    "scrolled": true
   },
   "outputs": [],
   "source": [
    "# Getting brewery addresses and saving them into a text file\n",
    "addresses = []\n",
    "for i in tqdm(range(1535)):\n",
    "    driver = webdriver.Chrome(options=options)\n",
    "    driver.get(url + d['link'][i])\n",
    "    time.sleep(5)\n",
    "    soup = bs(driver.page_source, \"html.parser\")\n",
    "    try:\n",
    "        addresses.append(soup.select('.fd-r')[1].text)\n",
    "    except:\n",
    "        addresses.append('NaN')\n",
    "    driver.quit()\n",
    "\n",
    "file_path = 'addresses.txt'\n",
    "\n",
    "# Open the file in write mode\n",
    "with open(file_path, 'w') as file:\n",
    "    # Write each item in the list to a new line\n",
    "    for item in addresses:\n",
    "        if item == 'NaN':\n",
    "            file.write(item)\n",
    "        else:\n",
    "            file.write(item[2:]) # all address strings start with CA, which we don't need"
   ]
  },
  {
   "cell_type": "code",
   "execution_count": null,
   "id": "d1f07bda",
   "metadata": {},
   "outputs": [],
   "source": [
    "# Generating and saving a breweries dataframe\n",
    "with open('addresses.txt', 'r') as file:\n",
    "    # Read the lines of the file\n",
    "    lines = file.readlines()\n",
    "\n",
    "df = pd.DataFrame(data = d, columns=col)\n",
    "df['address'] = lines\n",
    "df.to_csv('breweries.csv', index=False)"
   ]
  }
 ],
 "metadata": {
  "kernelspec": {
   "display_name": "Python 3 (ipykernel)",
   "language": "python",
   "name": "python3"
  },
  "language_info": {
   "codemirror_mode": {
    "name": "ipython",
    "version": 3
   },
   "file_extension": ".py",
   "mimetype": "text/x-python",
   "name": "python",
   "nbconvert_exporter": "python",
   "pygments_lexer": "ipython3",
   "version": "3.8.18"
  }
 },
 "nbformat": 4,
 "nbformat_minor": 5
}
